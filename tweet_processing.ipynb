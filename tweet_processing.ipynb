{
  "nbformat": 4,
  "nbformat_minor": 0,
  "metadata": {
    "colab": {
      "name": "tweet_processing.ipynb",
      "provenance": [],
      "collapsed_sections": []
    },
    "kernelspec": {
      "name": "python3",
      "display_name": "Python 3"
    },
    "language_info": {
      "name": "python"
    }
  },
  "cells": [
    {
      "cell_type": "markdown",
      "source": [
        "tweet_processing.ipynb is used for data extraction from Twitter API and data cleaning and storage to csv for further useage. \n",
        "Components:\n",
        "1. authenitcation with twitter API\n",
        "2. parsing query response \n",
        "\n",
        "Sources for data and api: \n",
        "1. https://developer.twitter.com/en/docs/twitter-api\n",
        "2. https://worldpopulationreview.com/country-rankings/happiest-countries-in-the-world \n",
        "3. https://worldhappiness.report/ "
      ],
      "metadata": {
        "id": "oqGjbyR-504b"
      }
    },
    {
      "cell_type": "markdown",
      "source": [
        "api authentication and response parser"
      ],
      "metadata": {
        "id": "RAiEUUIzaqOq"
      }
    },
    {
      "cell_type": "code",
      "source": [
        "\n",
        "import requests\n",
        "import os\n",
        "import json\n",
        "import pandas as pd\n",
        "from pandas import json_normalize \n",
        "import time\n",
        "\n",
        "#instiate and declare variables for setup\n",
        "search_query = \"https://api.twitter.com/2/tweets/search/all\"\n",
        "top_20_countries = ['SE', 'ES', 'US', 'GR', 'ID', 'EE', 'BD', 'LB', 'IN', 'TR', 'DK', 'GB', 'FR', 'MX', 'KR', 'KE', 'ET', 'PK', 'PT', 'PL']\n",
        "country_query_tags = [\"1\",\"2\", \"3\", \"4\", \"5\", \"6\", \"7\", \"8\", \"9\", \"10\", \"11\", \"12\", \"13\", \"14\", \"15\", \"16\", \"17\", \"18\", \"19\", \"20\"]\n",
        "keywords_topics = [\"covid\", \" djokovic\", \"winter olympics\", \"will smith\", \"Imran Khan\", \"activision\", \"#south korea\", \"taliban\", \"djokovic\"]\n",
        "csv_names = [\"output3\", \"output3\", \"output4\"]\n",
        "country_list = ['Sweden', 'Spain', 'United States', 'Greece', 'Indonesia', 'Estonia', 'Bangladesh', 'Lebanon', 'India', 'Turkey', 'Denmark', 'United Kingdom', 'France', 'Mexico', 'South Korea', 'Kenya', 'Ethiopia', 'Pakistan', 'Portugal', 'Poland']\n",
        "\n",
        "#authtication piece\n",
        "def authentication(tw):\n",
        "    tw.headers[\"Authorization\"] = f\"Bearer {api_token}\"\n",
        "    tw.headers[\"User-Agent\"] = \"v2RecentSearchPython\"\n",
        "    return tw\n",
        "\n",
        "def api_connect(search_query, params):\n",
        "    api_response = requests.get(search_query, auth=authentication, params=params)\n",
        "    return response.json()\n",
        "  \n",
        "#api_token = *redacted for privacy reasons*\n",
        "\n",
        "#method for tweet collection\n",
        "def collect_tweets(countries_a1, query_params_a1, name, this_keyword2):\n",
        "  #df to collect tweets by country\n",
        "  df3 = pd.DataFrame(columns = ['index_v', 'tweet_text', 'country', 'country_name', 'place', 'created', 'rt', 'reply', 'like', 'quoted'])\n",
        "  #iterate through list\n",
        "  for i in range(len(countries_a1)):\n",
        "    country = countries_a1[i]\n",
        "    #create and run query\n",
        "    query_params_a1[i] = {'query': '\"'+ this_keyword2 +'\" -is:retweet place_country: '+ countries_a1[i]+' lang:en','tweet.fields': 'public_metrics,created_at,geo','max_results':'100'}\n",
        "    json_response_a1 = api_connect(search_url, query_params_a1[i])\n",
        "    #pause to let api not timeout\n",
        "    time.sleep(2)\n",
        "    n = json_response_a1['meta']['result_count']\n",
        "    #populate csv\n",
        "    for k in range(n):\n",
        "      #declare and set fields\n",
        "      text = json_response_a1['data'][k]['text']\n",
        "      place = json_response_a1['data'][k]['geo']['place_id']\n",
        "      created = json_response_a1['data'][k]['created_at']\n",
        "      rt = json_response_a1['data'][k]['public_metrics']['retweet_count']\n",
        "      reply = json_response_a1['data'][k]['public_metrics']['reply_count']\n",
        "      like = json_response_a1['data'][k]['public_metrics']['like_count']\n",
        "      quoted = json_response_a1['data'][k]['public_metrics']['quote_count']\n",
        "      #append to df \n",
        "      df3 = df3.append({'index_v': k+1, 'tweet_text' : text , 'country' : countries_a1[i], 'country_name': country_list[i], 'place': place, 'created': created, 'rt': rt, 'reply':reply, 'like':like, 'quoted':quoted}, \n",
        "                ignore_index = True)\n",
        "  #convert to csv \n",
        "  file_name = name + '.csv'\n",
        "  df3.to_csv(file_name)\n",
        "\n",
        "#main method\n",
        "def main():\n",
        "    for i in range(4):\n",
        "      collect_tweets(top_20_countries, country_query_tags, csv_names[i], keywords_topics[i])\n",
        "      time.sleep(10)\n",
        "\n",
        "if __name__ == \"__main__\":\n",
        "    main()\n",
        "\n"
      ],
      "metadata": {
        "id": "cXoQWeakH_St"
      },
      "execution_count": null,
      "outputs": []
    },
    {
      "cell_type": "markdown",
      "source": [
        "random country generator "
      ],
      "metadata": {
        "id": "xqvTZNUhano6"
      }
    },
    {
      "cell_type": "code",
      "source": [
        "import random \n",
        "import pandas as pd\n",
        "\n",
        "#random country generator\n",
        "for i in range(10):\n",
        "  print(random.randint(1, 146))\n",
        "\n",
        "#list of countries \n",
        "country_index = [139, 80, 28, 67, 118, 99, 27, 123, 39, 7]\n",
        "df_countries_ranked = pd.read_csv ('csvData.csv')\n",
        "country_list = ['Sweden', 'Spain', 'United States', 'Greece', 'Indonesia', 'Estonia', 'Bangladesh', 'Lebanon', 'India', 'Turkey', 'Denmark', 'United Kingdom', 'France', 'Mexico', 'South Korea', 'Kenya', 'Ethiopia', 'Pakistan', 'Portugal', 'Poland']\n",
        "country_codes = ['SE', 'ES', 'US', 'GR', 'ID', 'EE', 'BD', 'LB', 'TR', 'IN', 'DK', 'GB', 'FR', 'MX', 'KR', 'KE', 'ET', 'PK', 'PT', 'PL']\n"
      ],
      "metadata": {
        "id": "hFMq_MmZGGzE"
      },
      "execution_count": null,
      "outputs": []
    }
  ]
}